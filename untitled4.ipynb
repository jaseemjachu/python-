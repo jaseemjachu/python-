{
  "nbformat": 4,
  "nbformat_minor": 0,
  "metadata": {
    "colab": {
      "provenance": [],
      "authorship_tag": "ABX9TyNIfBMJwiS5WD2wI82yr8um",
      "include_colab_link": true
    },
    "kernelspec": {
      "name": "python3",
      "display_name": "Python 3"
    },
    "language_info": {
      "name": "python"
    }
  },
  "cells": [
    {
      "cell_type": "markdown",
      "metadata": {
        "id": "view-in-github",
        "colab_type": "text"
      },
      "source": [
        "<a href=\"https://colab.research.google.com/github/jaseemjachu/python-/blob/main/untitled4.ipynb\" target=\"_parent\"><img src=\"https://colab.research.google.com/assets/colab-badge.svg\" alt=\"Open In Colab\"/></a>"
      ]
    },
    {
      "cell_type": "code",
      "execution_count": null,
      "metadata": {
        "colab": {
          "base_uri": "https://localhost:8080/"
        },
        "id": "KqhudLurez6A",
        "outputId": "e1c6c08c-e81f-477c-f6d2-53137b98f0eb"
      },
      "outputs": [
        {
          "name": "stdout",
          "output_type": "stream",
          "text": [
            "enter your namejaseem\n"
          ]
        }
      ],
      "source": [
        "name=input('enter your name')"
      ]
    },
    {
      "cell_type": "code",
      "source": [
        "print(name)"
      ],
      "metadata": {
        "colab": {
          "base_uri": "https://localhost:8080/"
        },
        "id": "dpFp8q95iEWf",
        "outputId": "dfedf743-b041-4cf8-fb59-99248c90fbd9"
      },
      "execution_count": null,
      "outputs": [
        {
          "output_type": "stream",
          "name": "stdout",
          "text": [
            "jaseem\n"
          ]
        }
      ]
    },
    {
      "cell_type": "code",
      "source": [
        "mark1=int(input(\"enter eng marks\"))\n",
        "mark2=int(input(\"enter buss mark\"))\n",
        "mark3=int(input(\"enter acc mark\"))\n",
        "marks =mark1+mark2+mark3\n",
        "print(marks)"
      ],
      "metadata": {
        "colab": {
          "base_uri": "https://localhost:8080/"
        },
        "id": "CP6Y2UF4ib1N",
        "outputId": "58141926-cf62-4675-927f-b4a66bb41c90"
      },
      "execution_count": null,
      "outputs": [
        {
          "output_type": "stream",
          "name": "stdout",
          "text": [
            "enter eng marks50\n",
            "enter buss mark50\n",
            "enter acc mark40\n",
            "140\n"
          ]
        }
      ]
    },
    {
      "cell_type": "code",
      "source": [
        "n1=int(input(\"entre the first number\"))\n",
        "n2=int(input('enter the second number'))\n",
        "if n1>n2:\n",
        "  print(n1,\"is greater\")\n",
        "else :\n",
        "  print(\"n2 is largest \")"
      ],
      "metadata": {
        "colab": {
          "base_uri": "https://localhost:8080/"
        },
        "id": "Ze0evNM2n3fj",
        "outputId": "635581b9-7884-436b-ba70-2077f2f40b29"
      },
      "execution_count": null,
      "outputs": [
        {
          "output_type": "stream",
          "name": "stdout",
          "text": [
            "entre the first number60\n",
            "enter the second number50\n",
            "60 is greater\n"
          ]
        }
      ]
    },
    {
      "cell_type": "code",
      "source": [],
      "metadata": {
        "id": "_Z2zqfy1pdvy"
      },
      "execution_count": null,
      "outputs": []
    },
    {
      "cell_type": "code",
      "source": [
        "n1=int(input(\"enter the first number\"))\n",
        "n2=int(input(\"enter the second number\"))\n",
        "n3=int(input(\"enter the third number\"))\n",
        "if n1>n2 and n1>n3 :\n",
        "  print(n1,\"is greater\")\n",
        "if n2>n1 and n2>n3 :\n",
        "  print(n2,\"is greater\")\n",
        "else :\n",
        "  print(n3,\"is greater\")    \n",
        "\n"
      ],
      "metadata": {
        "colab": {
          "base_uri": "https://localhost:8080/"
        },
        "id": "2sdgaO67qANR",
        "outputId": "d93cdb4b-40e1-460e-d39b-7685639ad4b3"
      },
      "execution_count": null,
      "outputs": [
        {
          "output_type": "stream",
          "name": "stdout",
          "text": [
            "enter the first number50\n",
            "enter the second number40\n",
            "enter the third number60\n",
            "60 is greater\n"
          ]
        }
      ]
    },
    {
      "cell_type": "code",
      "source": [],
      "metadata": {
        "id": "v7inMrXjs_Kq"
      },
      "execution_count": null,
      "outputs": []
    },
    {
      "cell_type": "code",
      "source": [
        "x=int(input(\"enter a number\"))\n",
        "if x%2==0 :\n",
        "  print(x,\"is an even number\")\n",
        "else :\n",
        "  print(x,\"is an odd number\")\n"
      ],
      "metadata": {
        "colab": {
          "base_uri": "https://localhost:8080/"
        },
        "id": "b6bgprFQuudd",
        "outputId": "d3576245-ba8a-4f27-9b8e-aeda8587a55f"
      },
      "execution_count": null,
      "outputs": [
        {
          "output_type": "stream",
          "name": "stdout",
          "text": [
            "enter a number4\n",
            "4 is an even number\n"
          ]
        }
      ]
    },
    {
      "cell_type": "code",
      "source": [
        "for i in range(1,11) :\n",
        "  print(i)"
      ],
      "metadata": {
        "colab": {
          "base_uri": "https://localhost:8080/"
        },
        "id": "2d6kRWIqzHqe",
        "outputId": "d4551769-4bb0-4c9d-bc01-63bddfd9e55f"
      },
      "execution_count": null,
      "outputs": [
        {
          "output_type": "stream",
          "name": "stdout",
          "text": [
            "1\n",
            "2\n",
            "3\n",
            "4\n",
            "5\n",
            "6\n",
            "7\n",
            "8\n",
            "9\n",
            "10\n"
          ]
        }
      ]
    },
    {
      "cell_type": "code",
      "source": [],
      "metadata": {
        "id": "eRvfhX8_0TYZ"
      },
      "execution_count": null,
      "outputs": []
    }
  ]
}