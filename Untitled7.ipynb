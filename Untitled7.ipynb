{
  "nbformat": 4,
  "nbformat_minor": 0,
  "metadata": {
    "colab": {
      "provenance": [],
      "authorship_tag": "ABX9TyO+/TH+H2GCBM51dRfHM9oU",
      "include_colab_link": true
    },
    "kernelspec": {
      "name": "python3",
      "display_name": "Python 3"
    },
    "language_info": {
      "name": "python"
    }
  },
  "cells": [
    {
      "cell_type": "markdown",
      "metadata": {
        "id": "view-in-github",
        "colab_type": "text"
      },
      "source": [
        "<a href=\"https://colab.research.google.com/github/jaseemjachu/python-/blob/main/Untitled7.ipynb\" target=\"_parent\"><img src=\"https://colab.research.google.com/assets/colab-badge.svg\" alt=\"Open In Colab\"/></a>"
      ]
    },
    {
      "cell_type": "code",
      "execution_count": null,
      "metadata": {
        "colab": {
          "base_uri": "https://localhost:8080/"
        },
        "id": "zNYHOelBt9ER",
        "outputId": "5747b486-08d1-403e-e3da-0a1ba4174916"
      },
      "outputs": [
        {
          "output_type": "stream",
          "name": "stdout",
          "text": [
            "enter the number2\n",
            "1 * 2 = 2\n",
            "2 * 2 = 4\n",
            "3 * 2 = 6\n",
            "4 * 2 = 8\n",
            "5 * 2 = 10\n",
            "6 * 2 = 12\n",
            "7 * 2 = 14\n",
            "8 * 2 = 16\n",
            "9 * 2 = 18\n",
            "10 * 2 = 20\n"
          ]
        }
      ],
      "source": [
        "num=int(input(\"enter the number\"))\n",
        "for i in range(1,11):\n",
        "  print(i,\"*\",num,\"=\",i*num)"
      ]
    },
    {
      "cell_type": "code",
      "source": [
        "num=int(input())\n",
        "i=1\n",
        "while(i<=10):\n",
        "  print(i,\"*\",num,\"=\",i*num)\n",
        "  i=i+1"
      ],
      "metadata": {
        "colab": {
          "base_uri": "https://localhost:8080/"
        },
        "id": "x1qLBR7ZuO6s",
        "outputId": "6cd294b1-4a56-4071-d8e7-3d08c284f983"
      },
      "execution_count": null,
      "outputs": [
        {
          "output_type": "stream",
          "name": "stdout",
          "text": [
            "2\n",
            "1 * 2 = 2\n",
            "2 * 2 = 4\n",
            "3 * 2 = 6\n",
            "4 * 2 = 8\n",
            "5 * 2 = 10\n",
            "6 * 2 = 12\n",
            "7 * 2 = 14\n",
            "8 * 2 = 16\n",
            "9 * 2 = 18\n",
            "10 * 2 = 20\n"
          ]
        }
      ]
    },
    {
      "cell_type": "code",
      "source": [
        "num=input(\"enter the number\")\n",
        "d=0\n",
        "for i in num :\n",
        "  #print(i)\n",
        "  d=d+1\n",
        "print(d)\n",
        "\n",
        "\n"
      ],
      "metadata": {
        "id": "AaIckG1DzB7s",
        "colab": {
          "base_uri": "https://localhost:8080/"
        },
        "outputId": "315159c4-4c87-4bd1-ad00-5ea565e95c15"
      },
      "execution_count": 26,
      "outputs": [
        {
          "output_type": "stream",
          "name": "stdout",
          "text": [
            "enter the number32324\n",
            "5\n"
          ]
        }
      ]
    },
    {
      "cell_type": "code",
      "source": [
        "name=input(\"enter name\")\n",
        "if name is upper:\n",
        "  print (\"upper cast\")\n",
        "  print(lower cast)\n",
        "if name is lower :\n",
        "  print (\"lower case\")\n",
        "  print (upper case)  "
      ],
      "metadata": {
        "id": "mflK4e2m4c42"
      },
      "execution_count": null,
      "outputs": []
    },
    {
      "cell_type": "code",
      "source": [],
      "metadata": {
        "id": "OhUmG-WvBCx0"
      },
      "execution_count": null,
      "outputs": []
    }
  ]
}