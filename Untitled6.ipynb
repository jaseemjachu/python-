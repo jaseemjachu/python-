{
  "nbformat": 4,
  "nbformat_minor": 0,
  "metadata": {
    "colab": {
      "provenance": [],
      "authorship_tag": "ABX9TyOFZj/iPnrtF+hz1Y778o3F",
      "include_colab_link": true
    },
    "kernelspec": {
      "name": "python3",
      "display_name": "Python 3"
    },
    "language_info": {
      "name": "python"
    }
  },
  "cells": [
    {
      "cell_type": "markdown",
      "metadata": {
        "id": "view-in-github",
        "colab_type": "text"
      },
      "source": [
        "<a href=\"https://colab.research.google.com/github/jaseemjachu/python-/blob/main/Untitled6.ipynb\" target=\"_parent\"><img src=\"https://colab.research.google.com/assets/colab-badge.svg\" alt=\"Open In Colab\"/></a>"
      ]
    },
    {
      "cell_type": "code",
      "execution_count": 6,
      "metadata": {
        "colab": {
          "base_uri": "https://localhost:8080/"
        },
        "id": "ZuABsqIiiO8t",
        "outputId": "9a2ce39d-2c83-40af-8dc4-2ea1f61a6230"
      },
      "outputs": [
        {
          "output_type": "stream",
          "name": "stdout",
          "text": [
            "-10\n",
            "absolute value of  10 is 10\n"
          ]
        }
      ],
      "source": [
        "num=int(input())\n",
        "if (num>0):\n",
        "  print(\"absolute value of \",num,\"is\", num)\n",
        "else:\n",
        "  num=num*(-1)\n",
        "  print(\"absolute value of \",num,\"is\",num)"
      ]
    },
    {
      "cell_type": "code",
      "source": [
        "x=int(input(\"marks\"))\n",
        "if(x<25):\n",
        "  print(\"f\")\n",
        "elif(x>25 and x<45):\n",
        "  print(\"e\")\n",
        "elif(x>45 and x<50):\n",
        "  print(\"d\")\n",
        "elif(x>50 and x<60):\n",
        "  print(\"c\")\n",
        "elif(x>60 and x<80):\n",
        "  print(\"b\")\n",
        "else:\n",
        "  print(\"a\")          "
      ],
      "metadata": {
        "colab": {
          "base_uri": "https://localhost:8080/"
        },
        "id": "ew96PyOPmvzX",
        "outputId": "31c9b3ae-5fc0-4d91-c7ac-8a89d74fe922"
      },
      "execution_count": 10,
      "outputs": [
        {
          "output_type": "stream",
          "name": "stdout",
          "text": [
            "marks80\n",
            "a\n"
          ]
        }
      ]
    },
    {
      "cell_type": "code",
      "source": [
        "x=int(input(\"num of classes held\"))\n",
        "y=int(input(\"num of classes attended\"))\n",
        "z=(x/y)//100\n",
        "print(z,\"%\")\n",
        "if(z>=75):\n",
        "  print(\"allowed\")\n",
        "if(z<75):\n",
        "  print(\"not alowed\")\n"
      ],
      "metadata": {
        "colab": {
          "base_uri": "https://localhost:8080/"
        },
        "id": "BzsjzkaQp6G7",
        "outputId": "2a0be1d1-eea2-4d49-f8e2-895356b9c6b2"
      },
      "execution_count": 15,
      "outputs": [
        {
          "output_type": "stream",
          "name": "stdout",
          "text": [
            "num of classes held150\n",
            "num of classes attended75\n",
            "0.0 %\n",
            "not alowed\n"
          ]
        }
      ]
    },
    {
      "cell_type": "code",
      "source": [
        "eng=int(input(\"english marks\"))\n",
        "math=int(input(\"maths marks\"))\n",
        "eco=int(input(\"economics marks\"))\n",
        "bs=int(input(\"business studies marks\"))\n",
        "mal=int(input(\"malayalm marksz\"))\n",
        "z=min(\"eng,math,eco,bs,mal\") \n"
      ],
      "metadata": {
        "colab": {
          "base_uri": "https://localhost:8080/"
        },
        "id": "DUj-D0UrvryT",
        "outputId": "9f15531e-9724-4efd-dc41-027aff451a81"
      },
      "execution_count": 16,
      "outputs": [
        {
          "name": "stdout",
          "output_type": "stream",
          "text": [
            "english marks40\n",
            "maths marks50\n",
            "economics marks60\n",
            "business studies marks70\n",
            "malayalm marksz50\n"
          ]
        }
      ]
    },
    {
      "cell_type": "code",
      "source": [
        "\n"
      ],
      "metadata": {
        "id": "vWevNcdg5noL"
      },
      "execution_count": null,
      "outputs": []
    }
  ]
}