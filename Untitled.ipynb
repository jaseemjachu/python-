{
  "nbformat": 4,
  "nbformat_minor": 0,
  "metadata": {
    "colab": {
      "provenance": [],
      "authorship_tag": "ABX9TyNgOKiidO4EoD4Uu1B/9ATA",
      "include_colab_link": true
    },
    "kernelspec": {
      "name": "python3",
      "display_name": "Python 3"
    },
    "language_info": {
      "name": "python"
    }
  },
  "cells": [
    {
      "cell_type": "markdown",
      "metadata": {
        "id": "view-in-github",
        "colab_type": "text"
      },
      "source": [
        "<a href=\"https://colab.research.google.com/github/jaseemjachu/python-/blob/main/Untitled.ipynb\" target=\"_parent\"><img src=\"https://colab.research.google.com/assets/colab-badge.svg\" alt=\"Open In Colab\"/></a>"
      ]
    },
    {
      "cell_type": "code",
      "execution_count": null,
      "metadata": {
        "colab": {
          "base_uri": "https://localhost:8080/"
        },
        "id": "7Jjqjbjr21Xm",
        "outputId": "5429ff4c-de3a-4093-811b-de3e132f0012"
      },
      "outputs": [
        {
          "output_type": "execute_result",
          "data": {
            "text/plain": [
              "float"
            ]
          },
          "metadata": {},
          "execution_count": 2
        }
      ],
      "source": [
        "num=1.0\n",
        "type (num)"
      ]
    },
    {
      "cell_type": "code",
      "source": [
        "num=1.0+5\n",
        "type(num)"
      ],
      "metadata": {
        "colab": {
          "base_uri": "https://localhost:8080/"
        },
        "id": "EDg_0L0d3GEk",
        "outputId": "7fba1001-0957-49c5-b0cc-75aa6d627ba6"
      },
      "execution_count": null,
      "outputs": [
        {
          "output_type": "execute_result",
          "data": {
            "text/plain": [
              "float"
            ]
          },
          "metadata": {},
          "execution_count": 3
        }
      ]
    },
    {
      "cell_type": "code",
      "source": [
        "c=10+5j\n",
        "print(c)"
      ],
      "metadata": {
        "colab": {
          "base_uri": "https://localhost:8080/"
        },
        "id": "UQ9hcdxH3iai",
        "outputId": "80fdb0fd-3f35-455b-ede8-a4ae2978693f"
      },
      "execution_count": null,
      "outputs": [
        {
          "output_type": "stream",
          "name": "stdout",
          "text": [
            "(10+5j)\n"
          ]
        }
      ]
    },
    {
      "cell_type": "code",
      "source": [],
      "metadata": {
        "id": "Srlvxs1a8sht"
      },
      "execution_count": null,
      "outputs": []
    },
    {
      "cell_type": "code",
      "source": [
        "name=\"jaseem\"\n",
        "type(name)"
      ],
      "metadata": {
        "colab": {
          "base_uri": "https://localhost:8080/"
        },
        "id": "pLhtOj3z4J96",
        "outputId": "916c1b58-798c-49f5-9def-d24500909606"
      },
      "execution_count": null,
      "outputs": [
        {
          "output_type": "execute_result",
          "data": {
            "text/plain": [
              "str"
            ]
          },
          "metadata": {},
          "execution_count": 6
        }
      ]
    },
    {
      "cell_type": "code",
      "source": [
        "friends=['chritsi','sabu','robin','thomas','donal',10,29,30,40,50,50]\n",
        "type(friends)\n",
        "print(friends[1])"
      ],
      "metadata": {
        "id": "ntdNqqCL4fAY",
        "colab": {
          "base_uri": "https://localhost:8080/"
        },
        "outputId": "b24d8709-ca1b-4e59-be1a-ab65650d584d"
      },
      "execution_count": 11,
      "outputs": [
        {
          "output_type": "stream",
          "name": "stdout",
          "text": [
            "sabu\n"
          ]
        }
      ]
    },
    {
      "cell_type": "code",
      "source": [
        "friends=['jachu','ichu','achu','appu']\n",
        "type(friends)\n",
        "print(friends[1])\n",
        "print(friends.pop(3))\n",
        "print (friends)"
      ],
      "metadata": {
        "colab": {
          "base_uri": "https://localhost:8080/"
        },
        "id": "JAu1f1GQ6har",
        "outputId": "968be180-dc08-4427-9e8b-0956d1b8d6c5"
      },
      "execution_count": 17,
      "outputs": [
        {
          "output_type": "stream",
          "name": "stdout",
          "text": [
            "ichu\n",
            "appu\n",
            "['jachu', 'ichu', 'achu']\n"
          ]
        }
      ]
    },
    {
      "cell_type": "code",
      "source": [
        "print(friends.append(\"hakku\"))\n",
        "print(friends)"
      ],
      "metadata": {
        "colab": {
          "base_uri": "https://localhost:8080/"
        },
        "id": "TN_Ygvfi7oRx",
        "outputId": "ee65c1a3-5afe-481b-b5c7-f5927c21c666"
      },
      "execution_count": 18,
      "outputs": [
        {
          "output_type": "stream",
          "name": "stdout",
          "text": [
            "None\n",
            "['jachu', 'ichu', 'achu', 'hakku']\n"
          ]
        }
      ]
    },
    {
      "cell_type": "code",
      "source": [
        "friends[0]='hakku'\n",
        "print(friends)"
      ],
      "metadata": {
        "colab": {
          "base_uri": "https://localhost:8080/"
        },
        "id": "-8joBUJ--9Kl",
        "outputId": "fc85dc8d-fe1d-46f9-8fae-943181c1cb45"
      },
      "execution_count": 19,
      "outputs": [
        {
          "output_type": "stream",
          "name": "stdout",
          "text": [
            "['hakku', 'ichu', 'achu', 'hakku']\n"
          ]
        }
      ]
    },
    {
      "cell_type": "code",
      "source": [
        "print(friends.sort())\n",
        "print(friends)"
      ],
      "metadata": {
        "colab": {
          "base_uri": "https://localhost:8080/"
        },
        "id": "a5d6r0-r_u-j",
        "outputId": "e7aba07e-a0fd-4ac9-9458-c3512e6f0848"
      },
      "execution_count": 20,
      "outputs": [
        {
          "output_type": "stream",
          "name": "stdout",
          "text": [
            "None\n",
            "['achu', 'hakku', 'hakku', 'ichu']\n"
          ]
        }
      ]
    },
    {
      "cell_type": "code",
      "source": [
        "print(friends.insert(1,'master'))\n",
        "print (friends)\n"
      ],
      "metadata": {
        "colab": {
          "base_uri": "https://localhost:8080/"
        },
        "id": "D2GsYJtSAOk6",
        "outputId": "14dd4758-6c20-4124-df7b-9612855496ad"
      },
      "execution_count": 22,
      "outputs": [
        {
          "output_type": "stream",
          "name": "stdout",
          "text": [
            "None\n",
            "['achu', 'master', 'hakku', 'hakku', 'ichu', 'master']\n"
          ]
        }
      ]
    },
    {
      "cell_type": "code",
      "source": [
        "friends=['jaseem','insam','fawas','amachu']\n",
        "fri=['jachu','ichu','bulg']\n",
        "print(friends+fri)"
      ],
      "metadata": {
        "colab": {
          "base_uri": "https://localhost:8080/"
        },
        "id": "9qEcR7e7BDCh",
        "outputId": "a0391b35-8c0b-493d-d6ec-83d7893b9c2e"
      },
      "execution_count": 30,
      "outputs": [
        {
          "output_type": "stream",
          "name": "stdout",
          "text": [
            "['jaseem', 'insam', 'fawas', 'amachu', 'jachu', 'ichu', 'bulg']\n"
          ]
        }
      ]
    },
    {
      "cell_type": "code",
      "source": [
        "friends[0]='achu'\n"
      ],
      "metadata": {
        "id": "-1MkLAg-DNp4"
      },
      "execution_count": 40,
      "outputs": []
    },
    {
      "cell_type": "code",
      "source": [
        "\n",
        "print(friends)"
      ],
      "metadata": {
        "colab": {
          "base_uri": "https://localhost:8080/"
        },
        "id": "-kQ7ALQUDYQH",
        "outputId": "71ffa57b-61fe-4487-acc5-81e7d29459a1"
      },
      "execution_count": 32,
      "outputs": [
        {
          "output_type": "stream",
          "name": "stdout",
          "text": [
            "['achu', 'insam', 'fawas', 'amachu']\n"
          ]
        }
      ]
    },
    {
      "cell_type": "code",
      "source": [
        "h={1,2,3,4,5,6}\n",
        "type(h)"
      ],
      "metadata": {
        "colab": {
          "base_uri": "https://localhost:8080/"
        },
        "id": "1Jn6O2lNEBQI",
        "outputId": "5a8dbbb9-2c04-49f1-947b-8a0cde8dcdd3"
      },
      "execution_count": 34,
      "outputs": [
        {
          "output_type": "execute_result",
          "data": {
            "text/plain": [
              "set"
            ]
          },
          "metadata": {},
          "execution_count": 34
        }
      ]
    },
    {
      "cell_type": "code",
      "source": [
        "marks=[10,20,20,30,40]\n",
        "set1 =set(marks)\n",
        "print(set1)"
      ],
      "metadata": {
        "colab": {
          "base_uri": "https://localhost:8080/"
        },
        "id": "B9a7mjaEFlpH",
        "outputId": "776b0cd6-c9be-4cf9-f97e-8d265ad97ef1"
      },
      "execution_count": 39,
      "outputs": [
        {
          "output_type": "stream",
          "name": "stdout",
          "text": [
            "{40, 10, 20, 30}\n"
          ]
        }
      ]
    },
    {
      "cell_type": "code",
      "source": [
        "h={1,1,1,2,3,4,5}\n",
        "print(h)"
      ],
      "metadata": {
        "colab": {
          "base_uri": "https://localhost:8080/"
        },
        "id": "rM0a5EkWGa_Y",
        "outputId": "cbe66b4e-67c2-4299-e90b-705bd54b5633"
      },
      "execution_count": 43,
      "outputs": [
        {
          "output_type": "stream",
          "name": "stdout",
          "text": [
            "{1, 2, 3, 4, 5}\n"
          ]
        }
      ]
    },
    {
      "cell_type": "code",
      "source": [
        "dict={'name':'jachu','place':'kochi','number':10}\n",
        "print(dict)"
      ],
      "metadata": {
        "colab": {
          "base_uri": "https://localhost:8080/"
        },
        "id": "5mpENlmxHfTc",
        "outputId": "574ad677-9303-41be-b0a3-990b5a470651"
      },
      "execution_count": 45,
      "outputs": [
        {
          "output_type": "stream",
          "name": "stdout",
          "text": [
            "{'name': 'jachu', 'place': 'kochi', 'number': 10}\n"
          ]
        }
      ]
    },
    {
      "cell_type": "code",
      "source": [
        "dict['year']=2004\n",
        "print(dict)"
      ],
      "metadata": {
        "colab": {
          "base_uri": "https://localhost:8080/"
        },
        "id": "VnvvmhumI5Qh",
        "outputId": "d9fb1e8a-ceee-4239-d8d4-53a0751da8ba"
      },
      "execution_count": 46,
      "outputs": [
        {
          "output_type": "stream",
          "name": "stdout",
          "text": [
            "{'name': 'jachu', 'place': 'kochi', 'number': 10, 'year': 2004}\n"
          ]
        }
      ]
    },
    {
      "cell_type": "code",
      "source": [
        "dict['name']='jaseem'\n",
        "print(dict)"
      ],
      "metadata": {
        "colab": {
          "base_uri": "https://localhost:8080/"
        },
        "id": "-seKetdnKM2Q",
        "outputId": "06d28e3a-dee8-403f-c35d-9c50a84ebc4c"
      },
      "execution_count": 49,
      "outputs": [
        {
          "output_type": "stream",
          "name": "stdout",
          "text": [
            "{'name': 'jaseem', 'place': 'kochi', 'number': 10, 'year': 2004}\n"
          ]
        }
      ]
    },
    {
      "cell_type": "code",
      "source": [
        "def add(x,y):\n",
        "  return(x+y)\n",
        "add(2,3) "
      ],
      "metadata": {
        "colab": {
          "base_uri": "https://localhost:8080/"
        },
        "id": "dkSDt3fHKaeI",
        "outputId": "cdc8dd32-2681-415b-a340-af04b0340ce4"
      },
      "execution_count": 52,
      "outputs": [
        {
          "output_type": "execute_result",
          "data": {
            "text/plain": [
              "5"
            ]
          },
          "metadata": {},
          "execution_count": 52
        }
      ]
    },
    {
      "cell_type": "code",
      "source": [
        "def mul(x,y,z):\n",
        "  return(x*y*z)\n",
        "mul(2,3,6) "
      ],
      "metadata": {
        "colab": {
          "base_uri": "https://localhost:8080/"
        },
        "id": "iCjRqOGfK9Sv",
        "outputId": "817fff73-5301-417b-f298-bc1af9e9afaf"
      },
      "execution_count": 55,
      "outputs": [
        {
          "output_type": "execute_result",
          "data": {
            "text/plain": [
              "36"
            ]
          },
          "metadata": {},
          "execution_count": 55
        }
      ]
    },
    {
      "cell_type": "code",
      "source": [],
      "metadata": {
        "id": "06dOx5dSMpxD"
      },
      "execution_count": null,
      "outputs": []
    }
  ]
}