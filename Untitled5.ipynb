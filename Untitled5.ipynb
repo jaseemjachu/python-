{
  "nbformat": 4,
  "nbformat_minor": 0,
  "metadata": {
    "colab": {
      "provenance": [],
      "authorship_tag": "ABX9TyNYGBXGuGJjoVEqkwaYobqL",
      "include_colab_link": true
    },
    "kernelspec": {
      "name": "python3",
      "display_name": "Python 3"
    },
    "language_info": {
      "name": "python"
    }
  },
  "cells": [
    {
      "cell_type": "markdown",
      "metadata": {
        "id": "view-in-github",
        "colab_type": "text"
      },
      "source": [
        "<a href=\"https://colab.research.google.com/github/jaseemjachu/python-/blob/main/Untitled5.ipynb\" target=\"_parent\"><img src=\"https://colab.research.google.com/assets/colab-badge.svg\" alt=\"Open In Colab\"/></a>"
      ]
    },
    {
      "cell_type": "code",
      "execution_count": 3,
      "metadata": {
        "colab": {
          "base_uri": "https://localhost:8080/"
        },
        "id": "1EKmjoBDoyQ6",
        "outputId": "91803bcb-cd6e-46a3-903d-14e8dc574af2"
      },
      "outputs": [
        {
          "output_type": "stream",
          "name": "stdout",
          "text": [
            "enter travel sourcekunnumpuram\n",
            "travel source kunnumpuram\n",
            "enter travel destinationgoa\n",
            "travel destination goa\n",
            "number of passengers4\n",
            "number of passengers 4\n"
          ]
        }
      ],
      "source": [
        "x=input(\"enter travel source\")\n",
        "print('travel source',x)\n",
        "y=input(\"enter travel destination\")\n",
        "print('travel destination',y)\n",
        "j=input(\"number of passengers\")\n",
        "print('number of passengers',j)"
      ]
    },
    {
      "cell_type": "code",
      "source": [
        "x=int(input(\"total ticket fare\"))\n",
        "print(\"total ticket fare\",x)\n",
        "y=int(input(\"fare per person\"))\n",
        "z=x/y\n",
        "print(\"num of people\",z)\n"
      ],
      "metadata": {
        "colab": {
          "base_uri": "https://localhost:8080/"
        },
        "id": "NLoqDQbTqwRc",
        "outputId": "df8548cd-ca2b-4342-8f4c-f9a25956ac49"
      },
      "execution_count": 5,
      "outputs": [
        {
          "output_type": "stream",
          "name": "stdout",
          "text": [
            "total ticket fare200000\n",
            "total ticket fare 200000\n",
            "fare per person50000\n",
            "num of people 4.0\n"
          ]
        }
      ]
    },
    {
      "cell_type": "code",
      "source": [
        "x=int(input(\"total ticket fare\"))\n",
        "if x>10000 :\n",
        "  print('eligible for discount')"
      ],
      "metadata": {
        "colab": {
          "base_uri": "https://localhost:8080/"
        },
        "id": "nGGHZ1DJu00T",
        "outputId": "f6f55798-c16b-4ce3-e31a-8c4fdf7eb463"
      },
      "execution_count": 6,
      "outputs": [
        {
          "output_type": "stream",
          "name": "stdout",
          "text": [
            "total ticket fare20000\n",
            "eligible for discount\n"
          ]
        }
      ]
    },
    {
      "cell_type": "code",
      "source": [
        "x=int(input(\"total ticker fare\"))\n",
        "if x>15000:\n",
        "  print(\"elgible for  20% discount\")\n",
        "else:\n",
        "  print(\"elgible for 10% discount\")    "
      ],
      "metadata": {
        "colab": {
          "base_uri": "https://localhost:8080/"
        },
        "id": "IstBrfA6wnHX",
        "outputId": "7ca83be2-ac0a-4af5-adc2-6d99e7637e69"
      },
      "execution_count": 7,
      "outputs": [
        {
          "output_type": "stream",
          "name": "stdout",
          "text": [
            "total ticker fare100000\n",
            "elgible for  20% discount\n"
          ]
        }
      ]
    },
    {
      "cell_type": "code",
      "source": [
        "x=int(input(\" total ticket fare\"))\n",
        "if x>15000:\n",
        "  print('apply 20% discount')\n",
        "if x>10000:\n",
        "   print(\"apply 10% discount\")\n",
        "else :\n",
        "   print(\"apply 5% discount\")"
      ],
      "metadata": {
        "colab": {
          "base_uri": "https://localhost:8080/"
        },
        "id": "G45ShjjxyCiu",
        "outputId": "1b2800e1-ecb4-47c6-fcb8-c1a88782c2a4"
      },
      "execution_count": 8,
      "outputs": [
        {
          "output_type": "stream",
          "name": "stdout",
          "text": [
            " total ticket fare5000\n",
            "apply 5% discount\n"
          ]
        }
      ]
    },
    {
      "cell_type": "code",
      "source": [
        "x=int(input(\"entre a number\"))\n",
        "if x>0:\n",
        "  print(\"positive\")\n",
        "elif x<0:\n",
        "  print(\"negative\")\n",
        "else :\n",
        "  print(\"zero\")    "
      ],
      "metadata": {
        "colab": {
          "base_uri": "https://localhost:8080/"
        },
        "id": "qLtXepEfzCIN",
        "outputId": "3d3846d9-abdc-4c4c-f51e-6af2689694b8"
      },
      "execution_count": 10,
      "outputs": [
        {
          "output_type": "stream",
          "name": "stdout",
          "text": [
            "entre a number-25\n",
            "negative\n"
          ]
        }
      ]
    },
    {
      "cell_type": "markdown",
      "source": [],
      "metadata": {
        "id": "rwWIVamE2RBE"
      }
    },
    {
      "cell_type": "code",
      "source": [
        "x=int(input(\"age of a pass\"))\n",
        "if x>18:\n",
        "  print(\"adult\")\n",
        "elif x>13 and x<19 :\n",
        "   print(\"teenager\")\n",
        "elif x>6 and x<12:\n",
        "  print(\"kid\")\n",
        "elif x>2 and x<5 :\n",
        "  print(\"toddler\")\n",
        "else:\n",
        "  print(\"infant\")        "
      ],
      "metadata": {
        "colab": {
          "base_uri": "https://localhost:8080/"
        },
        "id": "bX_o8ng90Wnd",
        "outputId": "42829604-0bf8-4f84-c17e-60def02268dd"
      },
      "execution_count": 16,
      "outputs": [
        {
          "output_type": "stream",
          "name": "stdout",
          "text": [
            "age of a pass3\n",
            "toddler\n"
          ]
        }
      ]
    },
    {
      "cell_type": "code",
      "source": [
        "x=(input(\" entre initial\"))\n",
        "if x==\"a\" or x==\"e\" or x==\"i\" or x==\"o\" or x==\"u\" :\n",
        "  print(\"vowel\")\n",
        "else :\n",
        "  print(\"not vowel\") \n"
      ],
      "metadata": {
        "colab": {
          "base_uri": "https://localhost:8080/"
        },
        "id": "58KoXfWn2Ixa",
        "outputId": "0f877a7e-28dd-40ce-d3f1-361e7a149e6d"
      },
      "execution_count": 21,
      "outputs": [
        {
          "output_type": "stream",
          "name": "stdout",
          "text": [
            " entre initiale\n",
            "vowel\n"
          ]
        }
      ]
    },
    {
      "cell_type": "code",
      "source": [
        "x=input(\"characters of passengers\")\n",
        "for a in x:\n",
        "  print(a)"
      ],
      "metadata": {
        "colab": {
          "base_uri": "https://localhost:8080/"
        },
        "id": "U3Ht8w-I53Wi",
        "outputId": "13f9a05f-7124-4ee9-ea90-7c5f50c351c5"
      },
      "execution_count": 24,
      "outputs": [
        {
          "output_type": "stream",
          "name": "stdout",
          "text": [
            "characters of passengersashik\n",
            "a\n",
            "s\n",
            "h\n",
            "i\n",
            "k\n"
          ]
        }
      ]
    },
    {
      "cell_type": "code",
      "source": [],
      "metadata": {
        "id": "ugNT6qPn-DVb"
      },
      "execution_count": 24,
      "outputs": []
    }
  ]
}