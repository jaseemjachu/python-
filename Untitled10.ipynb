{
  "nbformat": 4,
  "nbformat_minor": 0,
  "metadata": {
    "colab": {
      "provenance": [],
      "authorship_tag": "ABX9TyPr6ez/ViQb0LZYwbzoQl2m",
      "include_colab_link": true
    },
    "kernelspec": {
      "name": "python3",
      "display_name": "Python 3"
    },
    "language_info": {
      "name": "python"
    }
  },
  "cells": [
    {
      "cell_type": "markdown",
      "metadata": {
        "id": "view-in-github",
        "colab_type": "text"
      },
      "source": [
        "<a href=\"https://colab.research.google.com/github/jaseemjachu/python-/blob/main/Untitled10.ipynb\" target=\"_parent\"><img src=\"https://colab.research.google.com/assets/colab-badge.svg\" alt=\"Open In Colab\"/></a>"
      ]
    },
    {
      "cell_type": "code",
      "execution_count": 4,
      "metadata": {
        "colab": {
          "base_uri": "https://localhost:8080/"
        },
        "id": "CKQpvycssoIJ",
        "outputId": "0b6baa5a-89de-4cdb-bef3-559e5b3dceec"
      },
      "outputs": [
        {
          "output_type": "stream",
          "name": "stdout",
          "text": [
            "fifa world coup\n"
          ]
        }
      ],
      "source": [
        "def fun_name ():\n",
        "  print(\"fifa world coup\")\n",
        "fun_name () \n"
      ]
    },
    {
      "cell_type": "code",
      "source": [
        "def fun_name ():\n",
        "  x=input(\"enter first name\")\n",
        "  y=input(\"enter second name\")\n",
        "  z=input(\"enter third name\")\n",
        "  print(x,y,z)\n",
        "fun_name ()  \n",
        "\n"
      ],
      "metadata": {
        "colab": {
          "base_uri": "https://localhost:8080/"
        },
        "id": "opFm4DHstfFV",
        "outputId": "1eef6cc7-29cb-4db1-da58-539e25111bc1"
      },
      "execution_count": 5,
      "outputs": [
        {
          "output_type": "stream",
          "name": "stdout",
          "text": [
            "enter first namemohammed\n",
            "enter second namejaseem\n",
            "enter third namen.h\n",
            "mohammed jaseem n.h\n"
          ]
        }
      ]
    },
    {
      "cell_type": "code",
      "source": [
        "def fun_name(country = \"norway\"):\n",
        "  print(\"i am from \" + country)\n",
        "fun_name(\"india\")\n",
        "fun_name(\"brazil\")\n",
        "fun_name()  \n"
      ],
      "metadata": {
        "colab": {
          "base_uri": "https://localhost:8080/"
        },
        "id": "-3kbx3sHykOV",
        "outputId": "91ddc87d-8d29-4a46-b120-e0b86b342f07"
      },
      "execution_count": 6,
      "outputs": [
        {
          "output_type": "stream",
          "name": "stdout",
          "text": [
            "i am from india\n",
            "i am from brazil\n",
            "i am from norway\n"
          ]
        }
      ]
    },
    {
      "cell_type": "code",
      "source": [
        "def fun_name():\n",
        "  x=input(\"enter yoyr favorite footboll player:\")\n",
        "  print(x)\n",
        "fun_name ()"
      ],
      "metadata": {
        "colab": {
          "base_uri": "https://localhost:8080/"
        },
        "id": "LkUc2hf_2Axw",
        "outputId": "42a814f7-eb8a-44ec-ebcd-078987131f0e"
      },
      "execution_count": 9,
      "outputs": [
        {
          "output_type": "stream",
          "name": "stdout",
          "text": [
            "enter yoyr favorite footboll player:neymar\n",
            "neymar\n"
          ]
        }
      ]
    },
    {
      "cell_type": "code",
      "source": [],
      "metadata": {
        "id": "Y23ePAxJ5xdd"
      },
      "execution_count": 9,
      "outputs": []
    },
    {
      "cell_type": "code",
      "source": [],
      "metadata": {
        "id": "Td2awMga9Pi7"
      },
      "execution_count": null,
      "outputs": []
    }
  ]
}